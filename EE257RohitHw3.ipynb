{
 "cells": [
  {
   "cell_type": "code",
   "execution_count": 1,
   "metadata": {},
   "outputs": [
    {
     "data": {
      "text/plain": [
       "dict_keys(['data', 'target', 'feature_names', 'DESCR', 'details', 'categories', 'url'])"
      ]
     },
     "execution_count": 1,
     "metadata": {},
     "output_type": "execute_result"
    }
   ],
   "source": [
    "from sklearn.datasets import fetch_openml\n",
    "mnist = fetch_openml('mnist_784', version=1)\n",
    "mnist.keys()"
   ]
  },
  {
   "cell_type": "code",
   "execution_count": 2,
   "metadata": {},
   "outputs": [
    {
     "data": {
      "text/plain": [
       "(70000, 784)"
      ]
     },
     "execution_count": 2,
     "metadata": {},
     "output_type": "execute_result"
    }
   ],
   "source": [
    "X, y = mnist[\"data\"], mnist[\"target\"]\n",
    "X.shape"
   ]
  },
  {
   "cell_type": "code",
   "execution_count": 3,
   "metadata": {},
   "outputs": [
    {
     "data": {
      "text/plain": [
       "(70000,)"
      ]
     },
     "execution_count": 3,
     "metadata": {},
     "output_type": "execute_result"
    }
   ],
   "source": [
    "y.shape"
   ]
  },
  {
   "cell_type": "code",
   "execution_count": 5,
   "metadata": {},
   "outputs": [
    {
     "data": {
      "image/png": "[encoded data removed]",
      "text/plain": [
       "<Figure size 432x288 with 1 Axes>"
      ]
     },
     "metadata": {
      "needs_background": "light"
     },
     "output_type": "display_data"
    }
   ],
   "source": [
    "import matplotlib as m\n",
    "import matplotlib.pyplot as p\n",
    "\n",
    "data = X[0]\n",
    "data_image = data.reshape(28,28)\n",
    "p.imshow(data_image, cmap = m.cm.binary, interpolation ='nearest')\n",
    "p.axis('off')\n",
    "p.show()"
   ]
  },
  {
   "cell_type": "code",
   "execution_count": 6,
   "metadata": {},
   "outputs": [
    {
     "data": {
      "text/plain": [
       "'8'"
      ]
     },
     "execution_count": 6,
     "metadata": {},
     "output_type": "execute_result"
    }
   ],
   "source": [
    "y[24000]"
   ]
  },
  {
   "cell_type": "code",
   "execution_count": 7,
   "metadata": {},
   "outputs": [],
   "source": [
    "X_train, X_test, y_train, y_test =X[:60000], X[60000:], y[:60000], y[60000:]"
   ]
  },
  {
   "cell_type": "code",
   "execution_count": 8,
   "metadata": {},
   "outputs": [],
   "source": [
    "import numpy as np\n",
    "si = np.random.permutation(60000)\n",
    "X_train, y_train = X_train[si], y_train[si]"
   ]
  },
  {
   "cell_type": "code",
   "execution_count": 9,
   "metadata": {},
   "outputs": [],
   "source": [
    "y_train_6 = (y_train == '6')\n",
    "y_test_6 = (y_test == '6')"
   ]
  },
  {
   "cell_type": "code",
   "execution_count": 10,
   "metadata": {},
   "outputs": [
    {
     "name": "stdout",
     "output_type": "stream",
     "text": [
      "[False False False ... False False  True]\n"
     ]
    }
   ],
   "source": [
    "print(y_test_6)"
   ]
  },
  {
   "cell_type": "code",
   "execution_count": 11,
   "metadata": {},
   "outputs": [
    {
     "data": {
      "text/plain": [
       "KNeighborsClassifier(algorithm='auto', leaf_size=30, metric='minkowski',\n",
       "                     metric_params=None, n_jobs=None, n_neighbors=3, p=2,\n",
       "                     weights='uniform')"
      ]
     },
     "execution_count": 11,
     "metadata": {},
     "output_type": "execute_result"
    }
   ],
   "source": [
    "from sklearn.neighbors import KNeighborsClassifier\n",
    "n = KNeighborsClassifier(n_neighbors=3)\n",
    "n.fit(X_train, y_train_6)"
   ]
  },
  {
   "cell_type": "code",
   "execution_count": 12,
   "metadata": {},
   "outputs": [],
   "source": [
    "prediction = n.predict(X_test)"
   ]
  },
  {
   "cell_type": "code",
   "execution_count": 13,
   "metadata": {},
   "outputs": [
    {
     "name": "stdout",
     "output_type": "stream",
     "text": [
      "False\n"
     ]
    }
   ],
   "source": [
    "print(prediction[40])"
   ]
  },
  {
   "cell_type": "code",
   "execution_count": 15,
   "metadata": {},
   "outputs": [
    {
     "name": "stdout",
     "output_type": "stream",
     "text": [
      "[False False False ... False False  True]\n"
     ]
    }
   ],
   "source": [
    "print(prediction)"
   ]
  },
  {
   "cell_type": "code",
   "execution_count": 17,
   "metadata": {},
   "outputs": [
    {
     "name": "stdout",
     "output_type": "stream",
     "text": [
      "Confusion Matrix:\n",
      " [[9026   16]\n",
      " [  14  944]]\n",
      "Classification report:\n",
      "               precision    recall  f1-score   support\n",
      "\n",
      "       False       1.00      1.00      1.00      9042\n",
      "        True       0.98      0.99      0.98       958\n",
      "\n",
      "    accuracy                           1.00     10000\n",
      "   macro avg       0.99      0.99      0.99     10000\n",
      "weighted avg       1.00      1.00      1.00     10000\n",
      "\n"
     ]
    }
   ],
   "source": [
    "from sklearn.metrics import classification_report, confusion_matrix\n",
    "print(\"Confusion Matrix:\\n\",confusion_matrix(y_test_6, prediction))\n",
    "print(\"Classification report:\\n\", classification_report(y_test_6,prediction))"
   ]
  },
  {
   "cell_type": "code",
   "execution_count": 20,
   "metadata": {},
   "outputs": [
    {
     "name": "stdout",
     "output_type": "stream",
     "text": [
      "k=3, accuracy=99.70%\n"
     ]
    }
   ],
   "source": [
    "from sklearn.metrics import accuracy_score\n",
    "accuracies = []\n",
    "score = accuracy_score(y_test_6,prediction)\n",
    "print(\"k=%d, accuracy=%.2f%%\" %(3, score * 100))\n",
    "accuracies.append(score)"
   ]
  },
  {
   "cell_type": "code",
   "execution_count": 25,
   "metadata": {},
   "outputs": [
    {
     "name": "stderr",
     "output_type": "stream",
     "text": [
      "C:\\Users\\Rohit\\Anaconda3\\lib\\site-packages\\sklearn\\linear_model\\logistic.py:432: FutureWarning: Default solver will be changed to 'lbfgs' in 0.22. Specify a solver to silence this warning.\n",
      "  FutureWarning)\n",
      "C:\\Users\\Rohit\\Anaconda3\\lib\\site-packages\\sklearn\\svm\\base.py:929: ConvergenceWarning: Liblinear failed to converge, increase the number of iterations.\n",
      "  \"the number of iterations.\", ConvergenceWarning)\n"
     ]
    },
    {
     "data": {
      "text/plain": [
       "LogisticRegression(C=1.0, class_weight=None, dual=False, fit_intercept=True,\n",
       "                   intercept_scaling=1, l1_ratio=None, max_iter=100,\n",
       "                   multi_class='warn', n_jobs=None, penalty='l2',\n",
       "                   random_state=None, solver='warn', tol=0.0001, verbose=0,\n",
       "                   warm_start=False)"
      ]
     },
     "execution_count": 25,
     "metadata": {},
     "output_type": "execute_result"
    }
   ],
   "source": [
    "from sklearn.linear_model import LogisticRegression\n",
    "logisticReg = LogisticRegression()\n",
    "logisticReg.fit(X_train,y_train_6)"
   ]
  },
  {
   "cell_type": "code",
   "execution_count": 26,
   "metadata": {},
   "outputs": [],
   "source": [
    "prediction1 = logisticReg.predict(X_test)"
   ]
  },
  {
   "cell_type": "code",
   "execution_count": 27,
   "metadata": {},
   "outputs": [
    {
     "name": "stdout",
     "output_type": "stream",
     "text": [
      "Confusion Matrix:\n",
      " [[8972   70]\n",
      " [  84  874]]\n",
      "Classification report:\n",
      "               precision    recall  f1-score   support\n",
      "\n",
      "       False       0.99      0.99      0.99      9042\n",
      "        True       0.93      0.91      0.92       958\n",
      "\n",
      "    accuracy                           0.98     10000\n",
      "   macro avg       0.96      0.95      0.96     10000\n",
      "weighted avg       0.98      0.98      0.98     10000\n",
      "\n"
     ]
    }
   ],
   "source": [
    "print(\"Confusion Matrix:\\n\",confusion_matrix(y_test_6, prediction1))\n",
    "print(\"Classification report:\\n\",classification_report(y_test_6, prediction1))"
   ]
  },
  {
   "cell_type": "code",
   "execution_count": 28,
   "metadata": {},
   "outputs": [
    {
     "name": "stdout",
     "output_type": "stream",
     "text": [
      "accuracy=98.46%\n"
     ]
    }
   ],
   "source": [
    "score1 = accuracy_score(y_test_6,prediction1)\n",
    "print(\"accuracy=%.2f%%\" % (score1 * 100))"
   ]
  },
  {
   "cell_type": "code",
   "execution_count": 29,
   "metadata": {},
   "outputs": [
    {
     "name": "stderr",
     "output_type": "stream",
     "text": [
      "C:\\Users\\Rohit\\Anaconda3\\lib\\site-packages\\sklearn\\discriminant_analysis.py:388: UserWarning: Variables are collinear.\n",
      "  warnings.warn(\"Variables are collinear.\")\n"
     ]
    }
   ],
   "source": [
    "from sklearn.discriminant_analysis import LinearDiscriminantAnalysis\n",
    "lda = LinearDiscriminantAnalysis(solver='svd')\n",
    "prediction2 = lda.fit(X_train,y_train_6).predict(X_test)"
   ]
  },
  {
   "cell_type": "code",
   "execution_count": 30,
   "metadata": {},
   "outputs": [
    {
     "name": "stdout",
     "output_type": "stream",
     "text": [
      "Confusion Matrix:\n",
      " [[8939  103]\n",
      " [ 135  823]]\n",
      "Classification report:\n",
      "               precision    recall  f1-score   support\n",
      "\n",
      "       False       0.99      0.99      0.99      9042\n",
      "        True       0.89      0.86      0.87       958\n",
      "\n",
      "    accuracy                           0.98     10000\n",
      "   macro avg       0.94      0.92      0.93     10000\n",
      "weighted avg       0.98      0.98      0.98     10000\n",
      "\n"
     ]
    }
   ],
   "source": [
    "print(\"Confusion Matrix:\\n\",confusion_matrix(y_test_6, prediction2))\n",
    "print(\"Classification report:\\n\",classification_report(y_test_6, prediction2))"
   ]
  },
  {
   "cell_type": "code",
   "execution_count": 32,
   "metadata": {},
   "outputs": [
    {
     "name": "stdout",
     "output_type": "stream",
     "text": [
      "accuracy=97.62%\n"
     ]
    }
   ],
   "source": [
    "score2 = accuracy_score(y_test_6,prediction2)\n",
    "print(\"accuracy=%.2f%%\" % (score2 * 100))"
   ]
  },
  {
   "cell_type": "code",
   "execution_count": 33,
   "metadata": {},
   "outputs": [
    {
     "name": "stderr",
     "output_type": "stream",
     "text": [
      "C:\\Users\\Rohit\\Anaconda3\\lib\\site-packages\\sklearn\\discriminant_analysis.py:693: UserWarning: Variables are collinear\n",
      "  warnings.warn(\"Variables are collinear\")\n"
     ]
    }
   ],
   "source": [
    "from sklearn.discriminant_analysis import QuadraticDiscriminantAnalysis\n",
    "qda = QuadraticDiscriminantAnalysis()\n",
    "prediction3 = qda.fit(X_train,y_train_6).predict(X_test)"
   ]
  },
  {
   "cell_type": "code",
   "execution_count": 34,
   "metadata": {},
   "outputs": [
    {
     "name": "stdout",
     "output_type": "stream",
     "text": [
      "Confusion Matrix:\n",
      " [[5764 3278]\n",
      " [   5  953]]\n",
      "Classification report:\n",
      "               precision    recall  f1-score   support\n",
      "\n",
      "       False       1.00      0.64      0.78      9042\n",
      "        True       0.23      0.99      0.37       958\n",
      "\n",
      "    accuracy                           0.67     10000\n",
      "   macro avg       0.61      0.82      0.57     10000\n",
      "weighted avg       0.92      0.67      0.74     10000\n",
      "\n"
     ]
    }
   ],
   "source": [
    "print(\"Confusion Matrix:\\n\",confusion_matrix(y_test_6, prediction3))\n",
    "print(\"Classification report:\\n\",classification_report(y_test_6, prediction3))"
   ]
  },
  {
   "cell_type": "code",
   "execution_count": 35,
   "metadata": {},
   "outputs": [
    {
     "name": "stdout",
     "output_type": "stream",
     "text": [
      "accuracy=67.17%\n"
     ]
    }
   ],
   "source": [
    "score3 = accuracy_score(y_test_6,prediction3)\n",
    "print(\"accuracy=%.2f%%\" % (score3 * 100))"
   ]
  },
  {
   "cell_type": "code",
   "execution_count": 36,
   "metadata": {},
   "outputs": [
    {
     "data": {
      "image/png": "[encoded data removed]",
      "text/plain": [
       "<Figure size 432x288 with 1 Axes>"
      ]
     },
     "metadata": {
      "needs_background": "light"
     },
     "output_type": "display_data"
    }
   ],
   "source": [
    "import matplotlib.pyplot as plt\n",
    "fig = plt.figure()\n",
    "ax = fig.add_axes([0,0,1,1])\n",
    "Accuracy = ['KNN', 'Logistic Regression', 'LDA', 'QDA']\n",
    "Scores = [score*100,score1*100,score2*100,score3*100]\n",
    "ax.bar(Accuracy,Scores)\n",
    "plt.show()\n"
   ]
  },
  {
   "cell_type": "code",
   "execution_count": 37,
   "metadata": {},
   "outputs": [
    {
     "name": "stdout",
     "output_type": "stream",
     "text": [
      "Accuracies:\n",
      "KNN\tLogReg\t\t\tLDA\t\t\tQDA \n",
      " 99.7 \t 98.46000000000001 \t 97.61999999999999 \t 67.17\n"
     ]
    }
   ],
   "source": [
    "print(\"Accuracies:\\nKNN\\tLogReg\\t\\t\\tLDA\\t\\t\\tQDA\",\"\\n\",score*100,\"\\t\",score1*100,\"\\t\",(score2*100),\"\\t\",score3*100)"
   ]
  },
  {
   "cell_type": "code",
   "execution_count": 38,
   "metadata": {},
   "outputs": [
    {
     "name": "stdout",
     "output_type": "stream",
     "text": [
      "1.KNN:\n",
      "\n",
      "Confusion Matrix:\n",
      " [[9026   16]\n",
      " [  14  944]]\n",
      "Classification report:\n",
      "               precision    recall  f1-score   support\n",
      "\n",
      "       False       1.00      1.00      1.00      9042\n",
      "        True       0.98      0.99      0.98       958\n",
      "\n",
      "    accuracy                           1.00     10000\n",
      "   macro avg       0.99      0.99      0.99     10000\n",
      "weighted avg       1.00      1.00      1.00     10000\n",
      " \n",
      "\n",
      "2.Logistic Regression:\n",
      "\n",
      "Confusion Matrix:\n",
      " [[8972   70]\n",
      " [  84  874]]\n",
      "Classification report:\n",
      "               precision    recall  f1-score   support\n",
      "\n",
      "       False       0.99      0.99      0.99      9042\n",
      "        True       0.93      0.91      0.92       958\n",
      "\n",
      "    accuracy                           0.98     10000\n",
      "   macro avg       0.96      0.95      0.96     10000\n",
      "weighted avg       0.98      0.98      0.98     10000\n",
      " \n",
      "\n",
      "3.LDA:\n",
      "\n",
      "Confusion Matrix:\n",
      " [[8939  103]\n",
      " [ 135  823]]\n",
      "Classification report:\n",
      "               precision    recall  f1-score   support\n",
      "\n",
      "       False       0.99      0.99      0.99      9042\n",
      "        True       0.89      0.86      0.87       958\n",
      "\n",
      "    accuracy                           0.98     10000\n",
      "   macro avg       0.94      0.92      0.93     10000\n",
      "weighted avg       0.98      0.98      0.98     10000\n",
      " \n",
      "\n",
      "4.QDA:\n",
      "\n",
      "Confusion Matrix:\n",
      " [[5764 3278]\n",
      " [   5  953]]\n",
      "Classification report:\n",
      "               precision    recall  f1-score   support\n",
      "\n",
      "       False       1.00      0.64      0.78      9042\n",
      "        True       0.23      0.99      0.37       958\n",
      "\n",
      "    accuracy                           0.67     10000\n",
      "   macro avg       0.61      0.82      0.57     10000\n",
      "weighted avg       0.92      0.67      0.74     10000\n",
      " \n",
      "\n"
     ]
    }
   ],
   "source": [
    "print(\"1.KNN:\\n\")\n",
    "print(\"Confusion Matrix:\\n\",confusion_matrix(y_test_6, prediction))\n",
    "print(\"Classification report:\\n\",classification_report(y_test_6, prediction),\"\\n\")\n",
    "\n",
    "print(\"2.Logistic Regression:\\n\")\n",
    "print(\"Confusion Matrix:\\n\",confusion_matrix(y_test_6, prediction1))\n",
    "print(\"Classification report:\\n\",classification_report(y_test_6, prediction1),\"\\n\")\n",
    "\n",
    "print(\"3.LDA:\\n\")\n",
    "print(\"Confusion Matrix:\\n\",confusion_matrix(y_test_6, prediction2))\n",
    "print(\"Classification report:\\n\",classification_report(y_test_6, prediction2),\"\\n\")\n",
    "\n",
    "print(\"4.QDA:\\n\")\n",
    "print(\"Confusion Matrix:\\n\",confusion_matrix(y_test_6, prediction3))\n",
    "print(\"Classification report:\\n\",classification_report(y_test_6, prediction3),\"\\n\")"
   ]
  },
  {
   "cell_type": "code",
   "execution_count": 39,
   "metadata": {},
   "outputs": [
    {
     "data": {
      "text/plain": [
       "KNeighborsClassifier(algorithm='auto', leaf_size=30, metric='minkowski',\n",
       "                     metric_params=None, n_jobs=None, n_neighbors=3, p=2,\n",
       "                     weights='uniform')"
      ]
     },
     "execution_count": 39,
     "metadata": {},
     "output_type": "execute_result"
    }
   ],
   "source": [
    "n1 = KNeighborsClassifier(n_neighbors=3)\n",
    "n1.fit(X_train, y_train)"
   ]
  },
  {
   "cell_type": "code",
   "execution_count": 40,
   "metadata": {},
   "outputs": [],
   "source": [
    "y_pred = n1.predict(X_test)"
   ]
  },
  {
   "cell_type": "code",
   "execution_count": 41,
   "metadata": {},
   "outputs": [
    {
     "name": "stdout",
     "output_type": "stream",
     "text": [
      "['7' '2' '1' ... '4' '5' '6']\n"
     ]
    }
   ],
   "source": [
    "print(y_pred)"
   ]
  },
  {
   "cell_type": "code",
   "execution_count": 42,
   "metadata": {},
   "outputs": [],
   "source": [
    "cnf = confusion_matrix(y_test, y_pred)\n",
    "clr = classification_report(y_test, y_pred)"
   ]
  },
  {
   "cell_type": "code",
   "execution_count": 43,
   "metadata": {},
   "outputs": [
    {
     "name": "stdout",
     "output_type": "stream",
     "text": [
      "Confusion Matrix:\n",
      " [[ 974    1    1    0    0    1    2    1    0    0]\n",
      " [   0 1133    2    0    0    0    0    0    0    0]\n",
      " [  10    9  996    2    0    0    0   13    2    0]\n",
      " [   0    2    4  976    1   13    1    7    3    3]\n",
      " [   1    6    0    0  950    0    4    2    0   19]\n",
      " [   6    1    0   11    2  859    5    1    3    4]\n",
      " [   5    3    0    0    3    3  944    0    0    0]\n",
      " [   0   21    5    0    1    0    0  991    0   10]\n",
      " [   8    2    4   16    8   11    3    4  914    4]\n",
      " [   4    5    2    8    9    2    1    8    2  968]]\n",
      "Classification Report\n",
      "               precision    recall  f1-score   support\n",
      "\n",
      "           0       0.97      0.99      0.98       980\n",
      "           1       0.96      1.00      0.98      1135\n",
      "           2       0.98      0.97      0.97      1032\n",
      "           3       0.96      0.97      0.96      1010\n",
      "           4       0.98      0.97      0.97       982\n",
      "           5       0.97      0.96      0.96       892\n",
      "           6       0.98      0.99      0.98       958\n",
      "           7       0.96      0.96      0.96      1028\n",
      "           8       0.99      0.94      0.96       974\n",
      "           9       0.96      0.96      0.96      1009\n",
      "\n",
      "    accuracy                           0.97     10000\n",
      "   macro avg       0.97      0.97      0.97     10000\n",
      "weighted avg       0.97      0.97      0.97     10000\n",
      "\n"
     ]
    }
   ],
   "source": [
    "print(\"Confusion Matrix:\\n\",cnf)\n",
    "print(\"Classification Report\\n\",clr)"
   ]
  },
  {
   "cell_type": "code",
   "execution_count": 44,
   "metadata": {},
   "outputs": [
    {
     "name": "stdout",
     "output_type": "stream",
     "text": [
      "k=3, accuracy=97.05%\n"
     ]
    }
   ],
   "source": [
    "acc = accuracy_score(y_test,y_pred)\n",
    "print(\"k=%d, accuracy=%.2f%%\" % (3, acc * 100))"
   ]
  },
  {
   "cell_type": "code",
   "execution_count": 46,
   "metadata": {},
   "outputs": [
    {
     "name": "stderr",
     "output_type": "stream",
     "text": [
      "C:\\Users\\Rohit\\Anaconda3\\lib\\site-packages\\sklearn\\linear_model\\logistic.py:432: FutureWarning: Default solver will be changed to 'lbfgs' in 0.22. Specify a solver to silence this warning.\n",
      "  FutureWarning)\n",
      "C:\\Users\\Rohit\\Anaconda3\\lib\\site-packages\\sklearn\\svm\\base.py:929: ConvergenceWarning: Liblinear failed to converge, increase the number of iterations.\n",
      "  \"the number of iterations.\", ConvergenceWarning)\n"
     ]
    },
    {
     "data": {
      "text/plain": [
       "LogisticRegression(C=1.0, class_weight=None, dual=False, fit_intercept=True,\n",
       "                   intercept_scaling=1, l1_ratio=None, max_iter=100,\n",
       "                   multi_class='ovr', n_jobs=None, penalty='l2', random_state=0,\n",
       "                   solver='warn', tol=0.0001, verbose=0, warm_start=False)"
      ]
     },
     "execution_count": 46,
     "metadata": {},
     "output_type": "execute_result"
    }
   ],
   "source": [
    "logisticReg1 = LogisticRegression(random_state=0, multi_class='ovr')\n",
    "logisticReg1.fit(X_train,y_train)"
   ]
  },
  {
   "cell_type": "code",
   "execution_count": 47,
   "metadata": {},
   "outputs": [],
   "source": [
    "y_pred1 = logisticReg1.predict(X_test)"
   ]
  },
  {
   "cell_type": "code",
   "execution_count": 48,
   "metadata": {},
   "outputs": [],
   "source": [
    "confm1 = confusion_matrix(y_test, y_pred1)\n",
    "classifr1 = classification_report(y_test, y_pred1)"
   ]
  },
  {
   "cell_type": "code",
   "execution_count": 49,
   "metadata": {},
   "outputs": [
    {
     "name": "stdout",
     "output_type": "stream",
     "text": [
      "Confusion Matrix:\n",
      " [[ 960    0    2    1    0    3    7    3    3    1]\n",
      " [   0 1109    4    3    0    1    5    1   12    0]\n",
      " [  10    9  902   20    7    3   12   15   51    3]\n",
      " [   4    0   18  919    2   23    5   10   22    7]\n",
      " [   1    2    4    5  910    0    9    3   10   38]\n",
      " [   9    1    0   38   10  769   16    7   35    7]\n",
      " [   8    4    7    0    5   19  907    0    8    0]\n",
      " [   4    7   24    6    8    2    1  940    5   31]\n",
      " [  13   14    6   22   12   20   11   12  854   10]\n",
      " [   9    8    2   15   30    9    0   27   11  898]]\n",
      "Classification Report\n",
      "               precision    recall  f1-score   support\n",
      "\n",
      "           0       0.94      0.98      0.96       980\n",
      "           1       0.96      0.98      0.97      1135\n",
      "           2       0.93      0.87      0.90      1032\n",
      "           3       0.89      0.91      0.90      1010\n",
      "           4       0.92      0.93      0.93       982\n",
      "           5       0.91      0.86      0.88       892\n",
      "           6       0.93      0.95      0.94       958\n",
      "           7       0.92      0.91      0.92      1028\n",
      "           8       0.84      0.88      0.86       974\n",
      "           9       0.90      0.89      0.90      1009\n",
      "\n",
      "    accuracy                           0.92     10000\n",
      "   macro avg       0.92      0.92      0.92     10000\n",
      "weighted avg       0.92      0.92      0.92     10000\n",
      "\n"
     ]
    }
   ],
   "source": [
    "print(\"Confusion Matrix:\\n\",confm1)\n",
    "print(\"Classification Report\\n\",classifr1)"
   ]
  },
  {
   "cell_type": "code",
   "execution_count": 50,
   "metadata": {},
   "outputs": [
    {
     "name": "stdout",
     "output_type": "stream",
     "text": [
      "accuracy=91.68%\n"
     ]
    }
   ],
   "source": [
    "acc1 = accuracy_score(y_test,y_pred1)\n",
    "print(\"accuracy=%.2f%%\" % (acc1 * 100))"
   ]
  },
  {
   "cell_type": "code",
   "execution_count": 51,
   "metadata": {},
   "outputs": [
    {
     "name": "stderr",
     "output_type": "stream",
     "text": [
      "C:\\Users\\Rohit\\Anaconda3\\lib\\site-packages\\sklearn\\discriminant_analysis.py:388: UserWarning: Variables are collinear.\n",
      "  warnings.warn(\"Variables are collinear.\")\n"
     ]
    }
   ],
   "source": [
    "from sklearn.discriminant_analysis import LinearDiscriminantAnalysis\n",
    "lda1 = LinearDiscriminantAnalysis(solver='svd')\n",
    "y_pred2 = lda1.fit(X_train,y_train).predict(X_test)"
   ]
  },
  {
   "cell_type": "code",
   "execution_count": 54,
   "metadata": {},
   "outputs": [],
   "source": [
    "confm2 = confusion_matrix(y_test, y_pred2)\n",
    "classifr2 = classification_report(y_test, y_pred2)"
   ]
  },
  {
   "cell_type": "code",
   "execution_count": 55,
   "metadata": {},
   "outputs": [
    {
     "name": "stdout",
     "output_type": "stream",
     "text": [
      "Confusion Matrix:\n",
      " [[ 940    0    1    4    2   13    9    1    9    1]\n",
      " [   0 1096    4    3    2    2    3    0   25    0]\n",
      " [  15   32  816   34   21    5   37    9   57    6]\n",
      " [   5    5   25  883    4   25    3   16   29   15]\n",
      " [   0   12    6    0  888    4    7    2   10   53]\n",
      " [   8    8    4   44   12  735   15   10   38   18]\n",
      " [  12    8   11    0   25   29  857    0   16    0]\n",
      " [   2   30   15    9   22    2    0  864    4   80]\n",
      " [   7   27    8   27   20   53   10    6  790   26]\n",
      " [   9    7    1   13   63    6    0   37   12  861]]\n",
      "Classification Report\n",
      "               precision    recall  f1-score   support\n",
      "\n",
      "           0       0.94      0.96      0.95       980\n",
      "           1       0.89      0.97      0.93      1135\n",
      "           2       0.92      0.79      0.85      1032\n",
      "           3       0.87      0.87      0.87      1010\n",
      "           4       0.84      0.90      0.87       982\n",
      "           5       0.84      0.82      0.83       892\n",
      "           6       0.91      0.89      0.90       958\n",
      "           7       0.91      0.84      0.88      1028\n",
      "           8       0.80      0.81      0.80       974\n",
      "           9       0.81      0.85      0.83      1009\n",
      "\n",
      "    accuracy                           0.87     10000\n",
      "   macro avg       0.87      0.87      0.87     10000\n",
      "weighted avg       0.87      0.87      0.87     10000\n",
      "\n"
     ]
    }
   ],
   "source": [
    "print(\"Confusion Matrix:\\n\",confm2)\n",
    "print(\"Classification Report\\n\",classifr2)"
   ]
  },
  {
   "cell_type": "code",
   "execution_count": 56,
   "metadata": {},
   "outputs": [
    {
     "name": "stdout",
     "output_type": "stream",
     "text": [
      "accuracy=87.30%\n"
     ]
    }
   ],
   "source": [
    "acc2 = accuracy_score(y_test,y_pred2)\n",
    "print(\"accuracy=%.2f%%\" % (acc2 * 100))"
   ]
  },
  {
   "cell_type": "code",
   "execution_count": 57,
   "metadata": {},
   "outputs": [
    {
     "name": "stderr",
     "output_type": "stream",
     "text": [
      "C:\\Users\\Rohit\\Anaconda3\\lib\\site-packages\\sklearn\\discriminant_analysis.py:693: UserWarning: Variables are collinear\n",
      "  warnings.warn(\"Variables are collinear\")\n"
     ]
    }
   ],
   "source": [
    "from sklearn.discriminant_analysis import QuadraticDiscriminantAnalysis\n",
    "qda1 = QuadraticDiscriminantAnalysis()\n",
    "y_pred3 = qda1.fit(X_train,y_train).predict(X_test)"
   ]
  },
  {
   "cell_type": "code",
   "execution_count": 58,
   "metadata": {},
   "outputs": [],
   "source": [
    "confm3 = confusion_matrix(y_test, y_pred3)\n",
    "classifr3 = classification_report(y_test, y_pred3)"
   ]
  },
  {
   "cell_type": "code",
   "execution_count": 59,
   "metadata": {},
   "outputs": [
    {
     "name": "stdout",
     "output_type": "stream",
     "text": [
      "Confusion Matrix:\n",
      " [[ 948    1    1    6    0    1   10    1   11    1]\n",
      " [  23 1075    2    1    1    0   14    0   12    7]\n",
      " [ 525    8  189   67    3    0  156    4   65   15]\n",
      " [ 556   11    1  242    0    1   39    2   81   77]\n",
      " [ 301    6    6    6   90    1   58    8  119  387]\n",
      " [ 376    4    1   13    0   28   72    2  337   59]\n",
      " [  22    4    1    1    0    2  921    0    6    1]\n",
      " [  24    7    2   14    3    0    3  274   22  679]\n",
      " [ 159   48    3    8    1    5   37    3  606  104]\n",
      " [  21    7    3    5    1    0    0    8    4  960]]\n",
      "Classification Report\n",
      "               precision    recall  f1-score   support\n",
      "\n",
      "           0       0.32      0.97      0.48       980\n",
      "           1       0.92      0.95      0.93      1135\n",
      "           2       0.90      0.18      0.30      1032\n",
      "           3       0.67      0.24      0.35      1010\n",
      "           4       0.91      0.09      0.17       982\n",
      "           5       0.74      0.03      0.06       892\n",
      "           6       0.70      0.96      0.81       958\n",
      "           7       0.91      0.27      0.41      1028\n",
      "           8       0.48      0.62      0.54       974\n",
      "           9       0.42      0.95      0.58      1009\n",
      "\n",
      "    accuracy                           0.53     10000\n",
      "   macro avg       0.70      0.53      0.46     10000\n",
      "weighted avg       0.70      0.53      0.47     10000\n",
      "\n"
     ]
    }
   ],
   "source": [
    "print(\"Confusion Matrix:\\n\",confm3)\n",
    "print(\"Classification Report\\n\",classifr3)"
   ]
  },
  {
   "cell_type": "code",
   "execution_count": 60,
   "metadata": {},
   "outputs": [
    {
     "name": "stdout",
     "output_type": "stream",
     "text": [
      "accuracy=53.33%\n"
     ]
    }
   ],
   "source": [
    "acc3 = accuracy_score(y_test,y_pred3)\n",
    "print(\"accuracy=%.2f%%\" % (acc3 * 100))"
   ]
  },
  {
   "cell_type": "code",
   "execution_count": 61,
   "metadata": {},
   "outputs": [
    {
     "data": {
      "image/png": "[encoded data removed]",
      "text/plain": [
       "<Figure size 432x288 with 1 Axes>"
      ]
     },
     "metadata": {
      "needs_background": "light"
     },
     "output_type": "display_data"
    }
   ],
   "source": [
    "import matplotlib.pyplot as plt\n",
    "fig = plt.figure()\n",
    "af = fig.add_axes([0,0,1,1])\n",
    "Accuracy = ['KNN', 'Logistic Regression', 'LDA', 'QDA']\n",
    "Scores = [acc*100,acc1*100,acc2*100,acc3*100]\n",
    "af.bar(Accuracy,Scores)\n",
    "plt.show()\n"
   ]
  },
  {
   "cell_type": "code",
   "execution_count": 62,
   "metadata": {},
   "outputs": [
    {
     "name": "stdout",
     "output_type": "stream",
     "text": [
      "Accuracies:\n",
      "KNN\tLogReg\tLDA\tQDA \n",
      " 97.05 \t 91.67999999999999 \t 87.3 \t 53.33\n"
     ]
    }
   ],
   "source": [
    "print(\"Accuracies:\\nKNN\\tLogReg\\tLDA\\tQDA\",\"\\n\",acc*100,\"\\t\",acc1*100,\"\\t\",(acc2*100),\"\\t\",acc3*100)"
   ]
  },
  {
   "cell_type": "code",
   "execution_count": null,
   "metadata": {},
   "outputs": [],
   "source": [
    "print(\"1.KNN:\\n\")\n",
    "print(\"Confusion Matrix:\\n\",cnf)\n",
    "print(\"Classification report:\\n\",clr,\"\\n\")\n",
    "\n",
    "print(\"2.Logistic Regression:\\n\")\n",
    "print(\"Confusion Matrix:\\n\",conf1)\n",
    "print(\"Classification report:\\n\",clr1,\"\\n\")\n",
    "\n",
    "print(\"3.LDA:\\n\")\n",
    "print(\"Confusion Matrix:\\n\",cnf2)\n",
    "print(\"Classification report:\\n\",clr2,\"\\n\")\n",
    "\n",
    "print(\"4.QDA:\\n\")\n",
    "print(\"Confusion Matrix:\\n\",cnf3)\n",
    "print(\"Classification report:\\n\",clr3,\"\\n\")"
   ]
  }
 ],
 "metadata": {
  "kernelspec": {
   "display_name": "Python 3",
   "language": "python",
   "name": "python3"
  },
  "language_info": {
   "codemirror_mode": {
    "name": "ipython",
    "version": 3
   },
   "file_extension": ".py",
   "mimetype": "text/x-python",
   "name": "python",
   "nbconvert_exporter": "python",
   "pygments_lexer": "ipython3",
   "version": "3.7.4"
  }
 },
 "nbformat": 4,
 "nbformat_minor": 2
}
