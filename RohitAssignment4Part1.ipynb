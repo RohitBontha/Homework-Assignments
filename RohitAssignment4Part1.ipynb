{
 "cells": [
  {
   "cell_type": "code",
   "execution_count": 1,
   "metadata": {},
   "outputs": [],
   "source": [
    "import pandas as pd\n",
    "import numpy as np\n",
    "import matplotlib.pyplot as plt\n",
    "import seaborn as sea\n",
    "\n",
    "from sklearn.linear_model import LogisticRegression\n",
    "from sklearn.metrics import mean_squared_error\n",
    "from sklearn.model_selection import train_test_split, LeaveOneOut, KFold, cross_val_score\n",
    "from sklearn.preprocessing import PolynomialFeatures\n",
    "\n",
    "%matplotlib inline\n",
    "plt.style.use('seaborn-white')"
   ]
  },
  {
   "cell_type": "code",
   "execution_count": 2,
   "metadata": {},
   "outputs": [
    {
     "name": "stdout",
     "output_type": "stream",
     "text": [
      "<class 'pandas.core.frame.DataFrame'>\n",
      "Int64Index: 10000 entries, 1 to 10000\n",
      "Data columns (total 4 columns):\n",
      "default    10000 non-null object\n",
      "student    10000 non-null object\n",
      "balance    10000 non-null float64\n",
      "income     10000 non-null float64\n",
      "dtypes: float64(2), object(2)\n",
      "memory usage: 390.6+ KB\n"
     ]
    }
   ],
   "source": [
    "components = ['default','student','balance','income']\n",
    "data1 = pd.read_csv(r'C:\\Users\\Rohit\\Desktop\\Default.csv',header=0,names=components)\n",
    "data1.info()"
   ]
  },
  {
   "cell_type": "code",
   "execution_count": 3,
   "metadata": {},
   "outputs": [
    {
     "data": {
      "text/html": [
       "<div>\n",
       "<style scoped>\n",
       "    .dataframe tbody tr th:only-of-type {\n",
       "        vertical-align: middle;\n",
       "    }\n",
       "\n",
       "    .dataframe tbody tr th {\n",
       "        vertical-align: top;\n",
       "    }\n",
       "\n",
       "    .dataframe thead th {\n",
       "        text-align: right;\n",
       "    }\n",
       "</style>\n",
       "<table border=\"1\" class=\"dataframe\">\n",
       "  <thead>\n",
       "    <tr style=\"text-align: right;\">\n",
       "      <th></th>\n",
       "      <th>balance</th>\n",
       "      <th>income</th>\n",
       "    </tr>\n",
       "  </thead>\n",
       "  <tbody>\n",
       "    <tr>\n",
       "      <td>count</td>\n",
       "      <td>10000.000000</td>\n",
       "      <td>10000.000000</td>\n",
       "    </tr>\n",
       "    <tr>\n",
       "      <td>mean</td>\n",
       "      <td>835.374886</td>\n",
       "      <td>33516.981876</td>\n",
       "    </tr>\n",
       "    <tr>\n",
       "      <td>std</td>\n",
       "      <td>483.714985</td>\n",
       "      <td>13336.639563</td>\n",
       "    </tr>\n",
       "    <tr>\n",
       "      <td>min</td>\n",
       "      <td>0.000000</td>\n",
       "      <td>771.967729</td>\n",
       "    </tr>\n",
       "    <tr>\n",
       "      <td>25%</td>\n",
       "      <td>481.731105</td>\n",
       "      <td>21340.462903</td>\n",
       "    </tr>\n",
       "    <tr>\n",
       "      <td>50%</td>\n",
       "      <td>823.636973</td>\n",
       "      <td>34552.644802</td>\n",
       "    </tr>\n",
       "    <tr>\n",
       "      <td>75%</td>\n",
       "      <td>1166.308386</td>\n",
       "      <td>43807.729272</td>\n",
       "    </tr>\n",
       "    <tr>\n",
       "      <td>max</td>\n",
       "      <td>2654.322576</td>\n",
       "      <td>73554.233495</td>\n",
       "    </tr>\n",
       "  </tbody>\n",
       "</table>\n",
       "</div>"
      ],
      "text/plain": [
       "            balance        income\n",
       "count  10000.000000  10000.000000\n",
       "mean     835.374886  33516.981876\n",
       "std      483.714985  13336.639563\n",
       "min        0.000000    771.967729\n",
       "25%      481.731105  21340.462903\n",
       "50%      823.636973  34552.644802\n",
       "75%     1166.308386  43807.729272\n",
       "max     2654.322576  73554.233495"
      ]
     },
     "execution_count": 3,
     "metadata": {},
     "output_type": "execute_result"
    }
   ],
   "source": [
    "data1.describe()"
   ]
  },
  {
   "cell_type": "code",
   "execution_count": 4,
   "metadata": {},
   "outputs": [],
   "source": [
    "feature_coloumn = ['balance','income']\n",
    "X = data1[feature_coloumn]\n",
    "y = data1.default"
   ]
  },
  {
   "cell_type": "code",
   "execution_count": 5,
   "metadata": {},
   "outputs": [
    {
     "name": "stdout",
     "output_type": "stream",
     "text": [
      "           balance        income\n",
      "1       729.526495  44361.625074\n",
      "2       817.180407  12106.134700\n",
      "3      1073.549164  31767.138947\n",
      "4       529.250605  35704.493935\n",
      "5       785.655883  38463.495879\n",
      "...            ...           ...\n",
      "9996    711.555020  52992.378914\n",
      "9997    757.962918  19660.721768\n",
      "9998    845.411989  58636.156984\n",
      "9999   1569.009053  36669.112365\n",
      "10000   200.922183  16862.952321\n",
      "\n",
      "[10000 rows x 2 columns]\n"
     ]
    }
   ],
   "source": [
    "print(X)"
   ]
  },
  {
   "cell_type": "code",
   "execution_count": 6,
   "metadata": {},
   "outputs": [
    {
     "name": "stdout",
     "output_type": "stream",
     "text": [
      "1        No\n",
      "2        No\n",
      "3        No\n",
      "4        No\n",
      "5        No\n",
      "         ..\n",
      "9996     No\n",
      "9997     No\n",
      "9998     No\n",
      "9999     No\n",
      "10000    No\n",
      "Name: default, Length: 10000, dtype: object\n"
     ]
    }
   ],
   "source": [
    "print(y)"
   ]
  },
  {
   "cell_type": "code",
   "execution_count": 7,
   "metadata": {},
   "outputs": [],
   "source": [
    "# 3 Random slpits of data\n",
    "import numpy as np\n",
    "X,y = X[:10000],y[:10000]\n",
    "shuffle_index = np.random.permutation(10000)\n",
    "X,y = X.iloc[shuffle_index],y.iloc[shuffle_index]"
   ]
  },
  {
   "cell_type": "code",
   "execution_count": 8,
   "metadata": {},
   "outputs": [
    {
     "name": "stdout",
     "output_type": "stream",
     "text": [
      "          balance        income\n",
      "9158   184.887298  49716.020405\n",
      "7784   724.537790  33254.528495\n",
      "642   1531.716459  43930.400096\n",
      "7983  1592.549635  18024.281720\n",
      "2970  1393.368283  38371.977462\n",
      "...           ...           ...\n",
      "8456   620.457309  41059.096502\n",
      "7573   463.045456  35621.080350\n",
      "9963  1635.175122  13518.930622\n",
      "9615   456.373019  47633.785444\n",
      "7557   789.639900  44073.246693\n",
      "\n",
      "[10000 rows x 2 columns]\n"
     ]
    }
   ],
   "source": [
    "print(X)"
   ]
  },
  {
   "cell_type": "code",
   "execution_count": 9,
   "metadata": {},
   "outputs": [
    {
     "name": "stdout",
     "output_type": "stream",
     "text": [
      "9158     No\n",
      "7784     No\n",
      "642     Yes\n",
      "7983     No\n",
      "2970     No\n",
      "       ... \n",
      "8456     No\n",
      "7573     No\n",
      "9963     No\n",
      "9615     No\n",
      "7557     No\n",
      "Name: default, Length: 10000, dtype: object\n"
     ]
    }
   ],
   "source": [
    "print(y)"
   ]
  },
  {
   "cell_type": "code",
   "execution_count": 10,
   "metadata": {},
   "outputs": [],
   "source": [
    "X1,y1,X2,y2,X3,y3 = X[:3000],y[:3000],X[3000:7000],y[3000:7000],X[7000:10000],y[7000:10000]"
   ]
  },
  {
   "cell_type": "code",
   "execution_count": 11,
   "metadata": {},
   "outputs": [
    {
     "name": "stdout",
     "output_type": "stream",
     "text": [
      "9465    No\n",
      "3700    No\n",
      "2481    No\n",
      "7725    No\n",
      "2382    No\n",
      "        ..\n",
      "8456    No\n",
      "7573    No\n",
      "9963    No\n",
      "9615    No\n",
      "7557    No\n",
      "Name: default, Length: 3000, dtype: object\n"
     ]
    }
   ],
   "source": [
    "print(y3)"
   ]
  },
  {
   "cell_type": "markdown",
   "metadata": {},
   "source": [
    "#  Validation Interation Index-1"
   ]
  },
  {
   "cell_type": "code",
   "execution_count": 12,
   "metadata": {},
   "outputs": [],
   "source": [
    "X1_train,X1_test,y1_train,y1_test=train_test_split(X1,y1,test_size=0.5,random_state=0)"
   ]
  },
  {
   "cell_type": "code",
   "execution_count": 13,
   "metadata": {},
   "outputs": [
    {
     "name": "stdout",
     "output_type": "stream",
     "text": [
      "          balance        income\n",
      "7240   705.996772  53423.149801\n",
      "742    613.656318  25040.488453\n",
      "4913   908.926548  40757.094123\n",
      "4276   236.338466  39260.060191\n",
      "3891   824.995490  34277.525897\n",
      "...           ...           ...\n",
      "5149  1654.934175  33179.783923\n",
      "277   1362.965595  44217.916035\n",
      "3733   413.858825  42453.681875\n",
      "599    696.014431  40741.420240\n",
      "1872   220.368958  24019.310560\n",
      "\n",
      "[1500 rows x 2 columns]\n"
     ]
    }
   ],
   "source": [
    "print(X1_train)"
   ]
  },
  {
   "cell_type": "code",
   "execution_count": 14,
   "metadata": {},
   "outputs": [
    {
     "name": "stderr",
     "output_type": "stream",
     "text": [
      "C:\\Users\\Rohit\\Anaconda3\\lib\\site-packages\\sklearn\\linear_model\\logistic.py:432: FutureWarning: Default solver will be changed to 'lbfgs' in 0.22. Specify a solver to silence this warning.\n",
      "  FutureWarning)\n"
     ]
    },
    {
     "data": {
      "text/plain": [
       "LogisticRegression(C=1.0, class_weight=None, dual=False, fit_intercept=True,\n",
       "                   intercept_scaling=1, l1_ratio=None, max_iter=100,\n",
       "                   multi_class='warn', n_jobs=None, penalty='l2',\n",
       "                   random_state=None, solver='warn', tol=0.0001, verbose=0,\n",
       "                   warm_start=False)"
      ]
     },
     "execution_count": 14,
     "metadata": {},
     "output_type": "execute_result"
    }
   ],
   "source": [
    "logisticRe = LogisticRegression()\n",
    "logisticRe.fit(X1_train,y1_train)"
   ]
  },
  {
   "cell_type": "code",
   "execution_count": 15,
   "metadata": {},
   "outputs": [],
   "source": [
    "y1_pred = logisticRe.predict(X1_test)"
   ]
  },
  {
   "cell_type": "code",
   "execution_count": 16,
   "metadata": {},
   "outputs": [
    {
     "name": "stdout",
     "output_type": "stream",
     "text": [
      "Confusion Matrix:\n",
      " [[1457    3]\n",
      " [  39    1]]\n",
      "Classification report:\n",
      "               precision    recall  f1-score   support\n",
      "\n",
      "          No       0.97      1.00      0.99      1460\n",
      "         Yes       0.25      0.03      0.05        40\n",
      "\n",
      "    accuracy                           0.97      1500\n",
      "   macro avg       0.61      0.51      0.52      1500\n",
      "weighted avg       0.95      0.97      0.96      1500\n",
      "\n"
     ]
    }
   ],
   "source": [
    "from sklearn.metrics import classification_report, confusion_matrix\n",
    "print(\"Confusion Matrix:\\n\",confusion_matrix(y1_test, y1_pred))\n",
    "print(\"Classification report:\\n\",classification_report(y1_test, y1_pred))"
   ]
  },
  {
   "cell_type": "code",
   "execution_count": 17,
   "metadata": {},
   "outputs": [
    {
     "name": "stdout",
     "output_type": "stream",
     "text": [
      "Accuracy: 0.972\n",
      "\n",
      "MSE: 0.028\n"
     ]
    }
   ],
   "source": [
    "from sklearn import metrics\n",
    "print(\"Accuracy:\",metrics.accuracy_score(y1_test, y1_pred))\n",
    "y1_pred[y1_pred == 'Yes'] = 1\n",
    "y1_pred[y1_pred == 'No'] = 0\n",
    "y1_test[y1_test == 'Yes'] = 1\n",
    "y1_test[y1_test == 'No'] = 0\n",
    "print(\"\\nMSE:\",metrics.mean_squared_error(y1_test,y1_pred))"
   ]
  },
  {
   "cell_type": "markdown",
   "metadata": {},
   "source": [
    "# LOOCV interation - 1\n"
   ]
  },
  {
   "cell_type": "code",
   "execution_count": 18,
   "metadata": {},
   "outputs": [
    {
     "name": "stdout",
     "output_type": "stream",
     "text": [
      "Accuracy: 96.77%\n"
     ]
    }
   ],
   "source": [
    "from sklearn import model_selection\n",
    "loocv = model_selection.LeaveOneOut()\n",
    "model_loocv = LogisticRegression(solver='lbfgs')\n",
    "results_loocv1 = model_selection.cross_val_score(model_loocv, X1, y1, cv=loocv)\n",
    "print(\"Accuracy: %.2f%%\" % (results_loocv1.mean()*100.0))"
   ]
  },
  {
   "cell_type": "markdown",
   "metadata": {},
   "source": [
    "# k-fold cross validation iteration - 1"
   ]
  },
  {
   "cell_type": "code",
   "execution_count": 19,
   "metadata": {},
   "outputs": [
    {
     "name": "stdout",
     "output_type": "stream",
     "text": [
      "Accuracy: 96.80%\n"
     ]
    },
    {
     "name": "stderr",
     "output_type": "stream",
     "text": [
      "C:\\Users\\Rohit\\Anaconda3\\lib\\site-packages\\sklearn\\linear_model\\logistic.py:432: FutureWarning: Default solver will be changed to 'lbfgs' in 0.22. Specify a solver to silence this warning.\n",
      "  FutureWarning)\n",
      "C:\\Users\\Rohit\\Anaconda3\\lib\\site-packages\\sklearn\\linear_model\\logistic.py:432: FutureWarning: Default solver will be changed to 'lbfgs' in 0.22. Specify a solver to silence this warning.\n",
      "  FutureWarning)\n",
      "C:\\Users\\Rohit\\Anaconda3\\lib\\site-packages\\sklearn\\linear_model\\logistic.py:432: FutureWarning: Default solver will be changed to 'lbfgs' in 0.22. Specify a solver to silence this warning.\n",
      "  FutureWarning)\n",
      "C:\\Users\\Rohit\\Anaconda3\\lib\\site-packages\\sklearn\\linear_model\\logistic.py:432: FutureWarning: Default solver will be changed to 'lbfgs' in 0.22. Specify a solver to silence this warning.\n",
      "  FutureWarning)\n",
      "C:\\Users\\Rohit\\Anaconda3\\lib\\site-packages\\sklearn\\linear_model\\logistic.py:432: FutureWarning: Default solver will be changed to 'lbfgs' in 0.22. Specify a solver to silence this warning.\n",
      "  FutureWarning)\n"
     ]
    }
   ],
   "source": [
    "kfold = model_selection.KFold(n_splits=5, random_state=100)\n",
    "model_kfold = LogisticRegression()\n",
    "results_kfold1 = model_selection.cross_val_score(model_kfold, X1, y1, cv=kfold)\n",
    "print(\"Accuracy: %.2f%%\" % (results_kfold1.mean()*100.0)) "
   ]
  },
  {
   "cell_type": "markdown",
   "metadata": {},
   "source": [
    "# Validation Interation Index-2"
   ]
  },
  {
   "cell_type": "code",
   "execution_count": 20,
   "metadata": {},
   "outputs": [],
   "source": [
    "X2_train,X2_test,y2_train,y2_test=train_test_split(X2,y2,test_size=0.5,random_state=0)"
   ]
  },
  {
   "cell_type": "code",
   "execution_count": 21,
   "metadata": {},
   "outputs": [
    {
     "name": "stdout",
     "output_type": "stream",
     "text": [
      "Confusion Matrix:\n",
      " [[1933    0]\n",
      " [  67    0]]\n",
      "Classification report:\n",
      "               precision    recall  f1-score   support\n",
      "\n",
      "          No       0.97      1.00      0.98      1933\n",
      "         Yes       0.00      0.00      0.00        67\n",
      "\n",
      "    accuracy                           0.97      2000\n",
      "   macro avg       0.48      0.50      0.49      2000\n",
      "weighted avg       0.93      0.97      0.95      2000\n",
      "\n"
     ]
    },
    {
     "name": "stderr",
     "output_type": "stream",
     "text": [
      "C:\\Users\\Rohit\\Anaconda3\\lib\\site-packages\\sklearn\\linear_model\\logistic.py:432: FutureWarning: Default solver will be changed to 'lbfgs' in 0.22. Specify a solver to silence this warning.\n",
      "  FutureWarning)\n",
      "C:\\Users\\Rohit\\Anaconda3\\lib\\site-packages\\sklearn\\metrics\\classification.py:1437: UndefinedMetricWarning: Precision and F-score are ill-defined and being set to 0.0 in labels with no predicted samples.\n",
      "  'precision', 'predicted', average, warn_for)\n"
     ]
    }
   ],
   "source": [
    "logisticReg1 = LogisticRegression()\n",
    "logisticReg1.fit(X2_train,y2_train)\n",
    "y2_pred = logisticReg1.predict(X2_test)\n",
    "print(\"Confusion Matrix:\\n\",confusion_matrix(y2_test, y2_pred))\n",
    "print(\"Classification report:\\n\",classification_report(y2_test, y2_pred))"
   ]
  },
  {
   "cell_type": "code",
   "execution_count": 22,
   "metadata": {},
   "outputs": [
    {
     "name": "stdout",
     "output_type": "stream",
     "text": [
      "Accuracy: 0.9665\n",
      "\n",
      "MSE: 0.0335\n"
     ]
    }
   ],
   "source": [
    "from sklearn import metrics\n",
    "print(\"Accuracy:\",metrics.accuracy_score(y2_test, y2_pred))\n",
    "y2_pred[y2_pred == 'Yes'] = 1\n",
    "y2_pred[y2_pred == 'No'] = 0\n",
    "y2_test[y2_test == 'Yes'] = 1\n",
    "y2_test[y2_test == 'No'] = 0\n",
    "print(\"\\nMSE:\",metrics.mean_squared_error(y2_test,y2_pred))"
   ]
  },
  {
   "cell_type": "markdown",
   "metadata": {},
   "source": [
    "# LOOCV interation - 2"
   ]
  },
  {
   "cell_type": "code",
   "execution_count": 23,
   "metadata": {},
   "outputs": [
    {
     "name": "stdout",
     "output_type": "stream",
     "text": [
      "Accuracy: 96.40%\n"
     ]
    }
   ],
   "source": [
    "from sklearn import model_selection\n",
    "loocv = model_selection.LeaveOneOut()\n",
    "model_loocv = LogisticRegression(solver='lbfgs')\n",
    "results_loocv = model_selection.cross_val_score(model_loocv, X2, y2, cv=loocv)\n",
    "print(\"Accuracy: %.2f%%\" % (results_loocv.mean()*100.0))"
   ]
  },
  {
   "cell_type": "markdown",
   "metadata": {},
   "source": [
    "# k-fold cross validation iteration - 2"
   ]
  },
  {
   "cell_type": "code",
   "execution_count": 24,
   "metadata": {},
   "outputs": [
    {
     "name": "stdout",
     "output_type": "stream",
     "text": [
      "Accuracy: 96.78%\n"
     ]
    },
    {
     "name": "stderr",
     "output_type": "stream",
     "text": [
      "C:\\Users\\Rohit\\Anaconda3\\lib\\site-packages\\sklearn\\linear_model\\logistic.py:432: FutureWarning: Default solver will be changed to 'lbfgs' in 0.22. Specify a solver to silence this warning.\n",
      "  FutureWarning)\n",
      "C:\\Users\\Rohit\\Anaconda3\\lib\\site-packages\\sklearn\\linear_model\\logistic.py:432: FutureWarning: Default solver will be changed to 'lbfgs' in 0.22. Specify a solver to silence this warning.\n",
      "  FutureWarning)\n",
      "C:\\Users\\Rohit\\Anaconda3\\lib\\site-packages\\sklearn\\linear_model\\logistic.py:432: FutureWarning: Default solver will be changed to 'lbfgs' in 0.22. Specify a solver to silence this warning.\n",
      "  FutureWarning)\n",
      "C:\\Users\\Rohit\\Anaconda3\\lib\\site-packages\\sklearn\\linear_model\\logistic.py:432: FutureWarning: Default solver will be changed to 'lbfgs' in 0.22. Specify a solver to silence this warning.\n",
      "  FutureWarning)\n",
      "C:\\Users\\Rohit\\Anaconda3\\lib\\site-packages\\sklearn\\linear_model\\logistic.py:432: FutureWarning: Default solver will be changed to 'lbfgs' in 0.22. Specify a solver to silence this warning.\n",
      "  FutureWarning)\n"
     ]
    }
   ],
   "source": [
    "kfold = model_selection.KFold(n_splits=5, random_state=100)\n",
    "model_kfold = LogisticRegression()\n",
    "results_kfold2 = model_selection.cross_val_score(model_kfold, X2, y2, cv=kfold)\n",
    "print(\"Accuracy: %.2f%%\" % (results_kfold2.mean()*100.0)) "
   ]
  },
  {
   "cell_type": "markdown",
   "metadata": {},
   "source": [
    "#  Validation Set interation - 3"
   ]
  },
  {
   "cell_type": "code",
   "execution_count": 25,
   "metadata": {},
   "outputs": [],
   "source": [
    "X3_train,X3_test,y3_train,y3_test=train_test_split(X3,y3,test_size=0.5,random_state=0)"
   ]
  },
  {
   "cell_type": "code",
   "execution_count": 26,
   "metadata": {},
   "outputs": [
    {
     "name": "stdout",
     "output_type": "stream",
     "text": [
      "Confusion Matrix:\n",
      " [[1452    1]\n",
      " [  47    0]]\n",
      "Classification report:\n",
      "               precision    recall  f1-score   support\n",
      "\n",
      "          No       0.97      1.00      0.98      1453\n",
      "         Yes       0.00      0.00      0.00        47\n",
      "\n",
      "    accuracy                           0.97      1500\n",
      "   macro avg       0.48      0.50      0.49      1500\n",
      "weighted avg       0.94      0.97      0.95      1500\n",
      "\n"
     ]
    },
    {
     "name": "stderr",
     "output_type": "stream",
     "text": [
      "C:\\Users\\Rohit\\Anaconda3\\lib\\site-packages\\sklearn\\linear_model\\logistic.py:432: FutureWarning: Default solver will be changed to 'lbfgs' in 0.22. Specify a solver to silence this warning.\n",
      "  FutureWarning)\n"
     ]
    }
   ],
   "source": [
    "logisticReg2 = LogisticRegression()\n",
    "logisticReg2.fit(X3_train,y3_train)\n",
    "y3_pred = logisticReg2.predict(X3_test)\n",
    "print(\"Confusion Matrix:\\n\",confusion_matrix(y3_test, y3_pred))\n",
    "print(\"Classification report:\\n\",classification_report(y3_test, y3_pred))"
   ]
  },
  {
   "cell_type": "code",
   "execution_count": 27,
   "metadata": {},
   "outputs": [
    {
     "name": "stdout",
     "output_type": "stream",
     "text": [
      "Accuracy: 0.968\n",
      "\n",
      "MSE: 0.032\n"
     ]
    }
   ],
   "source": [
    "from sklearn import metrics\n",
    "print(\"Accuracy:\",metrics.accuracy_score(y3_test, y3_pred))\n",
    "y3_pred[y3_pred == 'Yes'] = 1\n",
    "y3_pred[y3_pred == 'No'] = 0\n",
    "y3_test[y3_test == 'Yes'] = 1\n",
    "y3_test[y3_test == 'No'] = 0\n",
    "print(\"\\nMSE:\",metrics.mean_squared_error(y3_test,y3_pred))"
   ]
  },
  {
   "cell_type": "markdown",
   "metadata": {},
   "source": [
    "# LOOCV interation - 3\n"
   ]
  },
  {
   "cell_type": "code",
   "execution_count": 29,
   "metadata": {},
   "outputs": [
    {
     "name": "stdout",
     "output_type": "stream",
     "text": [
      "Accuracy: 96.90%\n"
     ]
    }
   ],
   "source": [
    "from sklearn import model_selection\n",
    "loocv = model_selection.LeaveOneOut()\n",
    "model_loocv = LogisticRegression(solver='lbfgs')\n",
    "results_loocv3 = model_selection.cross_val_score(model_loocv, X3, y3, cv=loocv)\n",
    "print(\"Accuracy: %.2f%%\" % (results_loocv3.mean()*100.0))"
   ]
  },
  {
   "cell_type": "markdown",
   "metadata": {},
   "source": [
    "# k-fold cross validation iteration - 3"
   ]
  },
  {
   "cell_type": "code",
   "execution_count": 31,
   "metadata": {},
   "outputs": [
    {
     "name": "stdout",
     "output_type": "stream",
     "text": [
      "Accuracy: 96.23%\n"
     ]
    },
    {
     "name": "stderr",
     "output_type": "stream",
     "text": [
      "C:\\Users\\Rohit\\Anaconda3\\lib\\site-packages\\sklearn\\linear_model\\logistic.py:432: FutureWarning: Default solver will be changed to 'lbfgs' in 0.22. Specify a solver to silence this warning.\n",
      "  FutureWarning)\n",
      "C:\\Users\\Rohit\\Anaconda3\\lib\\site-packages\\sklearn\\linear_model\\logistic.py:432: FutureWarning: Default solver will be changed to 'lbfgs' in 0.22. Specify a solver to silence this warning.\n",
      "  FutureWarning)\n",
      "C:\\Users\\Rohit\\Anaconda3\\lib\\site-packages\\sklearn\\linear_model\\logistic.py:432: FutureWarning: Default solver will be changed to 'lbfgs' in 0.22. Specify a solver to silence this warning.\n",
      "  FutureWarning)\n",
      "C:\\Users\\Rohit\\Anaconda3\\lib\\site-packages\\sklearn\\linear_model\\logistic.py:432: FutureWarning: Default solver will be changed to 'lbfgs' in 0.22. Specify a solver to silence this warning.\n",
      "  FutureWarning)\n",
      "C:\\Users\\Rohit\\Anaconda3\\lib\\site-packages\\sklearn\\linear_model\\logistic.py:432: FutureWarning: Default solver will be changed to 'lbfgs' in 0.22. Specify a solver to silence this warning.\n",
      "  FutureWarning)\n"
     ]
    }
   ],
   "source": [
    "kfold = model_selection.KFold(n_splits=5, random_state=100)\n",
    "model_kfold = LogisticRegression()\n",
    "results_kfold3 = model_selection.cross_val_score(model_kfold, X3, y3, cv=kfold)\n",
    "print(\"Accuracy: %.2f%%\" % (results_kfold3.mean()*100.0)) "
   ]
  },
  {
   "cell_type": "markdown",
   "metadata": {},
   "source": [
    "# This model is 96.59% accurate as the mean of all the K-folds iterations (96.23+96.78+96.77) is 96.593"
   ]
  },
  {
   "cell_type": "markdown",
   "metadata": {},
   "source": [
    "## Problem 3"
   ]
  },
  {
   "cell_type": "code",
   "execution_count": 32,
   "metadata": {},
   "outputs": [],
   "source": [
    "import numpy as np\n",
    "np.random.seed(42) \n",
    "mu, sigma = 0, 1 # mean and standard deviation \n",
    "x = np.random.normal(mu, sigma, 100) \n",
    "n = np.random.normal(mu, sigma, 100) \n",
    "y = x - 2*x**2+n"
   ]
  },
  {
   "cell_type": "code",
   "execution_count": 34,
   "metadata": {},
   "outputs": [
    {
     "data": {
      "text/plain": [
       "(100,)"
      ]
     },
     "execution_count": 34,
     "metadata": {},
     "output_type": "execute_result"
    }
   ],
   "source": [
    "x.shape"
   ]
  },
  {
   "cell_type": "markdown",
   "metadata": {},
   "source": [
    "## a) In this data n(no. of data points) = 100 and p(no. of inputs) = 1 Model used here is y = x - 2(x^2) + n"
   ]
  },
  {
   "cell_type": "code",
   "execution_count": 35,
   "metadata": {},
   "outputs": [
    {
     "data": {
      "text/plain": [
       "Text(0, 0.5, 'y')"
      ]
     },
     "execution_count": 35,
     "metadata": {},
     "output_type": "execute_result"
    },
    {
     "data": {
      "image/png": "[encoded data removed]",
      "text/plain": [
       "<Figure size 432x288 with 1 Axes>"
      ]
     },
     "metadata": {},
     "output_type": "display_data"
    }
   ],
   "source": [
    "%matplotlib inline\n",
    "import matplotlib.pyplot as plt\n",
    "plt.style.use('seaborn-whitegrid')\n",
    "plt.plot(x, y, 'o', color='blue');\n",
    "plt.title('Scatter Plot of x-y')\n",
    "plt.xlabel('x')\n",
    "plt.ylabel('y')"
   ]
  },
  {
   "cell_type": "markdown",
   "metadata": {},
   "source": [
    "## b) The scatter plot of x and y shows the polynomial relationship between x and y. From the data generating equation it is clear that y is a quadratic functiion of x. We can see y changing as quardratic of x (parabolic shape)."
   ]
  },
  {
   "cell_type": "code",
   "execution_count": 36,
   "metadata": {},
   "outputs": [],
   "source": [
    "import pandas as pd\n",
    "import numpy as np\n",
    "import matplotlib.pyplot as plt\n",
    "import seaborn as sns\n",
    "\n",
    "import sklearn.linear_model as skl_lm\n",
    "from sklearn.metrics import mean_squared_error\n",
    "from sklearn.model_selection import LeaveOneOut, cross_val_score\n",
    "from sklearn.preprocessing import PolynomialFeatures"
   ]
  },
  {
   "cell_type": "code",
   "execution_count": 37,
   "metadata": {},
   "outputs": [
    {
     "name": "stdout",
     "output_type": "stream",
     "text": [
      "[-0.32766215 -0.60063869  0.93128012 -0.60170661 -0.21967189  0.31424733\n",
      "  1.03099952  0.08704707 -0.46341769  0.54256004  0.64768854  0.32875111\n",
      " -0.46063877  0.00511346 -0.8084936   1.47789404 -1.15099358 -0.64511975\n",
      " -0.50175704 -0.676922    0.73846658  1.0035329  -0.23458713 -1.19620662\n",
      " -0.51827022  0.49671415 -0.71984421 -0.46572975 -1.46351495  0.0675282\n",
      " -0.07201012  1.46564877 -1.05771093  0.09707755  0.37569802 -1.95967012\n",
      "  0.26105527 -0.90802408  0.36139561  0.91540212 -0.29900735  0.19686124\n",
      "  0.82254491 -0.29169375 -0.03582604  0.35711257  0.33126343  1.52302986\n",
      " -0.70205309 -0.23415337 -0.47917424 -0.3011037   0.09176078  0.29612028\n",
      "  0.2088636  -0.39210815  0.61167629 -2.6197451  -0.23413696  0.96864499\n",
      " -0.38508228  0.34361829  1.56464366 -1.98756891  0.36163603 -0.2257763\n",
      " -0.18565898  1.53803657 -0.30921238 -0.5297602   0.32408397 -1.10633497\n",
      "  1.85227818  1.35624003 -1.72491783  0.8219025  -1.91328024 -0.56228753\n",
      "  0.76743473  0.81252582 -1.4123037  -1.47852199 -1.22084365 -0.83921752\n",
      "  1.57921282  0.97554513  0.24196227 -1.42474819 -0.54438272 -1.76304016\n",
      "  0.11092259  0.17136828 -1.32818605  1.05712223 -0.11564828 -0.46947439\n",
      " -0.01349722 -1.01283112  0.51326743 -0.1382643 ] [ -1.78812589  -1.222521    -1.51763662  -2.87647174   0.30948398\n",
      "  -1.05193348  -0.80184803   0.08489458  -2.81170082  -0.12062867\n",
      "  -0.53402686   0.03976761  -2.12196564   0.06326988  -2.3392802\n",
      "  -3.96134007  -4.79110233  -2.23121491  -0.29127681  -2.27339351\n",
      "  -0.12473926   0.88616933  -1.48761968  -4.87870952  -0.57300584\n",
      "  -1.41210649  -0.97437271  -0.92605204  -5.36194958   1.4612024\n",
      "   0.73967912  -2.03957191  -2.82162332  -0.3682855   -0.47289771\n",
      "  -9.96234563   0.27848067  -1.4142167   -0.78933239  -0.28728233\n",
      "   0.97571594  -1.11151177  -1.45003959  -0.96533989  -0.11549476\n",
      "  -0.75510376  -1.07951099  -3.9184873   -1.47371644  -0.50509469\n",
      "  -1.91307181  -0.29779671  -0.18973614  -0.7631116   -0.6616377\n",
      "  -0.52642483   0.09563422 -16.06918313   0.06027367  -0.05150245\n",
      "  -0.3352108    0.6294128   -2.99042391  -7.16826013  -0.14531332\n",
      "  -1.23711363   0.53248712  -4.00888668  -0.02660404  -1.93784567\n",
      "   0.36451598  -2.39569354  -4.94102779  -1.90975307  -7.86796186\n",
      "   0.2980383   -6.77132072  -0.89307472  -0.23589959   0.45550553\n",
      "  -4.64957416  -5.59069375  -2.65182768  -0.38201511  -1.52242752\n",
      "  -0.27127785   0.185101    -6.88641404  -0.55023073  -7.68267666\n",
      "   2.27677057   1.41977686  -4.04282519  -2.49834919  -1.74988057\n",
      "  -0.65273639  -1.07616529  -3.09919665  -1.52846671  -0.59714366]\n"
     ]
    }
   ],
   "source": [
    "shuffle_index = np.random.permutation(100)\n",
    "x1,y1 = x[shuffle_index],y[shuffle_index]\n",
    "print(x1,y1)"
   ]
  },
  {
   "cell_type": "code",
   "execution_count": 38,
   "metadata": {},
   "outputs": [
    {
     "name": "stdout",
     "output_type": "stream",
     "text": [
      "[array([-0.32766215, -0.60063869,  0.93128012, -0.60170661, -0.21967189,\n",
      "        0.31424733,  1.03099952,  0.08704707, -0.46341769,  0.54256004,\n",
      "        0.64768854,  0.32875111, -0.46063877,  0.00511346, -0.8084936 ,\n",
      "        1.47789404, -1.15099358, -0.64511975, -0.50175704, -0.676922  ,\n",
      "        0.73846658,  1.0035329 , -0.23458713, -1.19620662, -0.51827022,\n",
      "        0.49671415, -0.71984421, -0.46572975, -1.46351495,  0.0675282 ,\n",
      "       -0.07201012,  1.46564877, -1.05771093,  0.09707755,  0.37569802,\n",
      "       -1.95967012,  0.26105527, -0.90802408,  0.36139561,  0.91540212,\n",
      "       -0.29900735,  0.19686124,  0.82254491, -0.29169375, -0.03582604,\n",
      "        0.35711257,  0.33126343,  1.52302986, -0.70205309, -0.23415337,\n",
      "       -0.47917424, -0.3011037 ,  0.09176078,  0.29612028,  0.2088636 ,\n",
      "       -0.39210815,  0.61167629, -2.6197451 , -0.23413696,  0.96864499,\n",
      "       -0.38508228,  0.34361829,  1.56464366, -1.98756891,  0.36163603,\n",
      "       -0.2257763 , -0.18565898,  1.53803657, -0.30921238, -0.5297602 ,\n",
      "        0.32408397, -1.10633497,  1.85227818,  1.35624003, -1.72491783,\n",
      "        0.8219025 , -1.91328024, -0.56228753,  0.76743473,  0.81252582,\n",
      "       -1.4123037 , -1.47852199, -1.22084365, -0.83921752,  1.57921282,\n",
      "        0.97554513,  0.24196227, -1.42474819, -0.54438272, -1.76304016,\n",
      "        0.11092259,  0.17136828, -1.32818605,  1.05712223, -0.11564828,\n",
      "       -0.46947439, -0.01349722, -1.01283112,  0.51326743, -0.1382643 ]), array([ -1.78812589,  -1.222521  ,  -1.51763662,  -2.87647174,\n",
      "         0.30948398,  -1.05193348,  -0.80184803,   0.08489458,\n",
      "        -2.81170082,  -0.12062867,  -0.53402686,   0.03976761,\n",
      "        -2.12196564,   0.06326988,  -2.3392802 ,  -3.96134007,\n",
      "        -4.79110233,  -2.23121491,  -0.29127681,  -2.27339351,\n",
      "        -0.12473926,   0.88616933,  -1.48761968,  -4.87870952,\n",
      "        -0.57300584,  -1.41210649,  -0.97437271,  -0.92605204,\n",
      "        -5.36194958,   1.4612024 ,   0.73967912,  -2.03957191,\n",
      "        -2.82162332,  -0.3682855 ,  -0.47289771,  -9.96234563,\n",
      "         0.27848067,  -1.4142167 ,  -0.78933239,  -0.28728233,\n",
      "         0.97571594,  -1.11151177,  -1.45003959,  -0.96533989,\n",
      "        -0.11549476,  -0.75510376,  -1.07951099,  -3.9184873 ,\n",
      "        -1.47371644,  -0.50509469,  -1.91307181,  -0.29779671,\n",
      "        -0.18973614,  -0.7631116 ,  -0.6616377 ,  -0.52642483,\n",
      "         0.09563422, -16.06918313,   0.06027367,  -0.05150245,\n",
      "        -0.3352108 ,   0.6294128 ,  -2.99042391,  -7.16826013,\n",
      "        -0.14531332,  -1.23711363,   0.53248712,  -4.00888668,\n",
      "        -0.02660404,  -1.93784567,   0.36451598,  -2.39569354,\n",
      "        -4.94102779,  -1.90975307,  -7.86796186,   0.2980383 ,\n",
      "        -6.77132072,  -0.89307472,  -0.23589959,   0.45550553,\n",
      "        -4.64957416,  -5.59069375,  -2.65182768,  -0.38201511,\n",
      "        -1.52242752,  -0.27127785,   0.185101  ,  -6.88641404,\n",
      "        -0.55023073,  -7.68267666,   2.27677057,   1.41977686,\n",
      "        -4.04282519,  -2.49834919,  -1.74988057,  -0.65273639,\n",
      "        -1.07616529,  -3.09919665,  -1.52846671,  -0.59714366])]\n"
     ]
    }
   ],
   "source": [
    "df = [x1,y1]\n",
    "print(df)"
   ]
  },
  {
   "cell_type": "code",
   "execution_count": 39,
   "metadata": {},
   "outputs": [
    {
     "name": "stdout",
     "output_type": "stream",
     "text": [
      "[-5.3029566276895945, -0.9127641950599265, -0.9569572977749526, -0.972772467279146]\n"
     ]
    }
   ],
   "source": [
    "p_order = np.arange(1,5)\n",
    "r_state = np.arange(0,4)\n",
    "\n",
    "# LeaveOneOut CV\n",
    "regr = skl_lm.LinearRegression()\n",
    "loo = LeaveOneOut()\n",
    "loo.get_n_splits(df)\n",
    "scores = list()\n",
    "\n",
    "for i in p_order:\n",
    "    poly = PolynomialFeatures(i)\n",
    "    x1_poly = poly.fit_transform(x1.reshape(-1,1))\n",
    "    score = cross_val_score(regr, x1_poly,y1, cv=loo, scoring='neg_mean_squared_error').mean()\n",
    "    scores.append(score)\n",
    "print(scores)"
   ]
  },
  {
   "cell_type": "code",
   "execution_count": 40,
   "metadata": {},
   "outputs": [
    {
     "data": {
      "text/plain": [
       "Text(0, 0.5, 'Mean Squared Error')"
      ]
     },
     "execution_count": 40,
     "metadata": {},
     "output_type": "execute_result"
    },
    {
     "data": {
      "image/png": "[encoded data removed]",
      "text/plain": [
       "<Figure size 432x288 with 1 Axes>"
      ]
     },
     "metadata": {},
     "output_type": "display_data"
    }
   ],
   "source": [
    "ax1 = plt\n",
    "ax1.plot(p_order, np.array(scores)*-1, '-o')\n",
    "ax1.title('LOOCV')\n",
    "ax1.xlabel('Degree of Polynomial')\n",
    "ax1.ylabel('Mean Squared Error')"
   ]
  },
  {
   "cell_type": "markdown",
   "metadata": {},
   "source": [
    "## c) with different seed"
   ]
  },
  {
   "cell_type": "code",
   "execution_count": 41,
   "metadata": {},
   "outputs": [
    {
     "name": "stdout",
     "output_type": "stream",
     "text": [
      "[ 0.00511346  0.96864499  0.2088636  -1.47852199  1.0035329  -0.2257763\n",
      " -1.4123037  -0.29169375  1.47789404 -0.23413696  0.73846658  0.34361829\n",
      " -1.72491783 -1.10633497 -1.91328024  0.61167629 -1.15099358  0.93128012\n",
      " -0.70205309  1.03099952 -2.6197451   0.09707755  0.37569802  0.31424733\n",
      " -1.95967012 -0.29900735 -1.22084365 -0.46063877 -1.19620662  1.56464366\n",
      " -0.46947439 -0.23415337  0.17136828  1.46564877 -0.54438272  0.35711257\n",
      " -0.46341769  0.09176078  1.57921282 -0.50175704  0.33126343  0.97554513\n",
      " -0.676922   -0.83921752  0.76743473  0.11092259 -1.01283112 -0.5297602\n",
      "  0.36139561  1.53803657 -0.07201012  0.29612028 -0.71984421 -0.60170661\n",
      "  0.81252582  0.24196227 -0.60063869 -0.3011037   1.35624003 -0.51827022\n",
      "  0.19686124 -1.98756891 -0.21967189  0.64768854 -0.03582604 -0.11564828\n",
      "  0.32408397 -0.47917424 -0.64511975 -0.23458713  0.82254491 -1.76304016\n",
      " -0.46572975  0.08704707  1.85227818 -0.1382643  -1.42474819 -1.46351495\n",
      "  1.52302986  0.91540212  0.49671415 -0.30921238 -0.90802408  0.32875111\n",
      " -0.38508228 -1.05771093  0.26105527  0.54256004  0.0675282  -0.01349722\n",
      " -1.32818605 -0.8084936   1.05712223 -0.39210815  0.51326743 -0.56228753\n",
      "  0.8219025   0.36163603 -0.18565898 -0.32766215] [  0.06326988  -0.05150245  -0.6616377   -5.59069375   0.88616933\n",
      "  -1.23711363  -4.64957416  -0.96533989  -3.96134007   0.06027367\n",
      "  -0.12473926   0.6294128   -7.86796186  -2.39569354  -6.77132072\n",
      "   0.09563422  -4.79110233  -1.51763662  -1.47371644  -0.80184803\n",
      " -16.06918313  -0.3682855   -0.47289771  -1.05193348  -9.96234563\n",
      "   0.97571594  -2.65182768  -2.12196564  -4.87870952  -2.99042391\n",
      "  -0.65273639  -0.50509469   1.41977686  -2.03957191  -0.55023073\n",
      "  -0.75510376  -2.81170082  -0.18973614  -1.52242752  -0.29127681\n",
      "  -1.07951099  -0.27127785  -2.27339351  -0.38201511  -0.23589959\n",
      "   2.27677057  -3.09919665  -1.93784567  -0.78933239  -4.00888668\n",
      "   0.73967912  -0.7631116   -0.97437271  -2.87647174   0.45550553\n",
      "   0.185101    -1.222521    -0.29779671  -1.90975307  -0.57300584\n",
      "  -1.11151177  -7.16826013   0.30948398  -0.53402686  -0.11549476\n",
      "  -1.74988057   0.36451598  -1.91307181  -2.23121491  -1.48761968\n",
      "  -1.45003959  -7.68267666  -0.92605204   0.08489458  -4.94102779\n",
      "  -0.59714366  -6.88641404  -5.36194958  -3.9184873   -0.28728233\n",
      "  -1.41210649  -0.02660404  -1.4142167    0.03976761  -0.3352108\n",
      "  -2.82162332   0.27848067  -0.12062867   1.4612024   -1.07616529\n",
      "  -4.04282519  -2.3392802   -2.49834919  -0.52642483  -1.52846671\n",
      "  -0.89307472   0.2980383   -0.14531332   0.53248712  -1.78812589]\n"
     ]
    }
   ],
   "source": [
    "shuffle_index = np.random.permutation(100)\n",
    "x2,y2 = x[shuffle_index],y[shuffle_index]\n",
    "print(x2,y2)"
   ]
  },
  {
   "cell_type": "code",
   "execution_count": 42,
   "metadata": {},
   "outputs": [],
   "source": [
    "df1 = [x2,y2]"
   ]
  },
  {
   "cell_type": "code",
   "execution_count": 43,
   "metadata": {},
   "outputs": [
    {
     "name": "stdout",
     "output_type": "stream",
     "text": [
      "[-5.302956627689594, -0.9127641950599251, -0.9569572977749509, -0.9727724672791467]\n"
     ]
    }
   ],
   "source": [
    "p_order = np.arange(1,5)\n",
    "r_state = np.arange(0,4)\n",
    "\n",
    "# LeaveOneOut CV\n",
    "regr = skl_lm.LinearRegression()\n",
    "loo = LeaveOneOut()\n",
    "loo.get_n_splits(df1)\n",
    "scores = list()\n",
    "\n",
    "for i in p_order:\n",
    "    poly = PolynomialFeatures(i)\n",
    "    x2_poly = poly.fit_transform(x2.reshape(-1,1))\n",
    "    score = cross_val_score(regr, x2_poly,y2, cv=loo, scoring='neg_mean_squared_error').mean()\n",
    "    scores.append(score)\n",
    "\n",
    "print(scores)"
   ]
  },
  {
   "cell_type": "code",
   "execution_count": 44,
   "metadata": {},
   "outputs": [
    {
     "data": {
      "text/plain": [
       "Text(0, 0.5, 'Mean Squared Error')"
      ]
     },
     "execution_count": 44,
     "metadata": {},
     "output_type": "execute_result"
    },
    {
     "data": {
      "image/png": "[encoded data removed]",
      "text/plain": [
       "<Figure size 432x288 with 1 Axes>"
      ]
     },
     "metadata": {},
     "output_type": "display_data"
    }
   ],
   "source": [
    "ax2 = plt\n",
    "ax2.plot(p_order, np.array(scores)*-1, '-o')\n",
    "ax2.title('LOOCV')\n",
    "ax2.xlabel('Degree of Polynomial')\n",
    "ax2.ylabel('Mean Squared Error')"
   ]
  },
  {
   "cell_type": "markdown",
   "metadata": {},
   "source": [
    "## e) The second degree polynomial in x has the smallest MSE or LOOCV error. Yes, that is what we expected. Because, the data is generated using second degree polynomial in x. Hence, regression with first degree polynomial results in high MSE. On the other hand, 3 and 4 degree polynomials overfit the data, hence have higher MSE than 2nd degree polynomial. Therefore, MSE is lowest for 2 degree polynomial in x."
   ]
  },
  {
   "cell_type": "code",
   "execution_count": 45,
   "metadata": {},
   "outputs": [],
   "source": [
    "regr1 = skl_lm.LinearRegression()\n",
    "p_order = np.arange(1,5)\n",
    "coeff = list()\n",
    "intercept = list()\n",
    "for i in p_order:\n",
    "    poly = PolynomialFeatures(i)\n",
    "    x1_poly = poly.fit_transform(x1.reshape(-1,1))\n",
    "    regr1.fit(x1_poly,y1)\n",
    "    coeff.append(regr1.coef_)\n",
    "    intercept.append(regr1.intercept_)"
   ]
  },
  {
   "cell_type": "code",
   "execution_count": 46,
   "metadata": {},
   "outputs": [
    {
     "name": "stdout",
     "output_type": "stream",
     "text": [
      "coefficients: [array([0.       , 1.5888784]), array([ 0.        ,  0.9242567 , -1.81557005]), array([ 0.        ,  0.8642927 , -1.79306238,  0.02836644]), array([ 0.        ,  1.01224805, -1.58846232, -0.0625832 , -0.06647838])]\n",
      "\n",
      "intercepts: [-1.5711550292824903, -0.13814114804627042, -0.15207309767535437, -0.20780594298631683]\n"
     ]
    }
   ],
   "source": [
    "print(\"coefficients:\",coeff)\n",
    "print(\"\\nintercepts:\",intercept)"
   ]
  },
  {
   "cell_type": "markdown",
   "metadata": {},
   "source": [
    "## f) From the coefficient array it is clear that absolute value of x^2 coefficient i.e. β2 is greater than other degree coefficients, i.e. β1, β3, and β4. Hence, we can say that change in y depends more on x^2 than other degrees of x, i.e. x, x^3, and x^4. This is evident from dataset generating function which is a 2nd degree polynomial in x. "
   ]
  },
  {
   "cell_type": "code",
   "execution_count": null,
   "metadata": {},
   "outputs": [],
   "source": []
  }
 ],
 "metadata": {
  "kernelspec": {
   "display_name": "Python 3",
   "language": "python",
   "name": "python3"
  },
  "language_info": {
   "codemirror_mode": {
    "name": "ipython",
    "version": 3
   },
   "file_extension": ".py",
   "mimetype": "text/x-python",
   "name": "python",
   "nbconvert_exporter": "python",
   "pygments_lexer": "ipython3",
   "version": "3.7.4"
  }
 },
 "nbformat": 4,
 "nbformat_minor": 2
}
